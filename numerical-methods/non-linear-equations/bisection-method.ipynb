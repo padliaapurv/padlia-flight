{
 "cells": [
  {
   "cell_type": "code",
   "execution_count": 2,
   "metadata": {},
   "outputs": [],
   "source": [
    "def bisectionMethod(F,a,b,maxIter=100,minInterval=0.1,minValue=0.1):\n",
    "\n",
    "    if F(a)*F(b) >= 0:\n",
    "        print(\"Infeasible Start\")\n",
    "        return False\n",
    "    \n",
    "    else:\n",
    "        for i in range(maxIter):\n",
    "\n",
    "            if all(x>=y for x,y in zip(minInterval,abs(b-a))) or minValue >= abs(F(a)) or minValue >= abs(F(b)):\n",
    "                break\n",
    "\n",
    "            if F((a+b)/2)*F(a) < 0:\n",
    "                b = (a+b)/2\n",
    "            else:\n",
    "                a = (a+b)/2\n",
    "            \n",
    "    if abs(F(a)) <= abs(F(b)):\n",
    "        return a\n",
    "    \n",
    "    else:\n",
    "        return b"
   ]
  },
  {
   "cell_type": "code",
   "execution_count": 10,
   "metadata": {},
   "outputs": [
    {
     "name": "stdout",
     "output_type": "stream",
     "text": [
      "0.0\n"
     ]
    }
   ],
   "source": [
    "def math(x):\n",
    "    return (x[0]**2-4*x[1])\n",
    "\n",
    "import numpy\n",
    "\n",
    "a = numpy.array([8,3])\n",
    "b = numpy.array([0,1])\n",
    "maxIter = 100\n",
    "minInterval = numpy.array([0,0])\n",
    "minValue = numpy.zeros(1)\n",
    "\n",
    "print(math(bisectionMethod(math,a,b,maxIter, minInterval, minValue)))"
   ]
  }
 ],
 "metadata": {
  "kernelspec": {
   "display_name": "Python 3",
   "language": "python",
   "name": "python3"
  },
  "language_info": {
   "codemirror_mode": {
    "name": "ipython",
    "version": 3
   },
   "file_extension": ".py",
   "mimetype": "text/x-python",
   "name": "python",
   "nbconvert_exporter": "python",
   "pygments_lexer": "ipython3",
   "version": "3.11.2"
  },
  "orig_nbformat": 4
 },
 "nbformat": 4,
 "nbformat_minor": 2
}
